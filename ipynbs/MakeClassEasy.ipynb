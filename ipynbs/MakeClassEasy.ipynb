{
 "cells": [
  {
   "cell_type": "code",
   "execution_count": 6,
   "metadata": {},
   "outputs": [],
   "source": [
    "debug = False #デバッグ時はTrue"
   ]
  },
  {
   "cell_type": "code",
   "execution_count": 7,
   "metadata": {},
   "outputs": [],
   "source": [
    "from MCE.bag_of_words import make_summary\n",
    "from MCE.CreateAdditionalExplanation import CreateAdditionalExplanation\n",
    "import time\n",
    "\n",
    "#テキストからMakeClassEasy化したテキスト及び処理時間のタプルを返します\n",
    "#引数:text = 入力テキスト,compression = 要約時圧縮率,number_of_sentence=要約時分数,c = 重要単語抽出個数\n",
    "def MakeClassEasy(text,compression,number_of_sentence,c=-1):\n",
    "    start = time.time()\n",
    "    summary = make_summary(text,compression,number_of_sentence)#入力テキストの要約\n",
    "    explain = CreateAdditionalExplanation(summary,c)#要約から重要語の抽出,重要語から補足説明の生成\n",
    "    if(debug): print(summary)\n",
    "    output = summary + \"\\n\\n以下重要語補足説明(自動生成)\\n\"\n",
    "    for e in explain:\n",
    "        try:\n",
    "            e[1] = make_summary(e[1],50,50)#重要語に対応する補足説明の要約\n",
    "        except:\n",
    "            e[1] = \"補足説明を生成できませんでした.\"\n",
    "        output = output + e[0] + \"\\n\" + e[1] + \"\\n\\n\"\n",
    "    if(debug):print(explain)\n",
    "    return (output,time.time()-start)"
   ]
  },
  {
   "cell_type": "code",
   "execution_count": 8,
   "metadata": {},
   "outputs": [
    {
     "ename": "FileNotFoundError",
     "evalue": "[Errno 2] No such file or directory: 'out.txt'",
     "output_type": "error",
     "traceback": [
      "\u001b[1;31m---------------------------------------------------------------------------\u001b[0m",
      "\u001b[1;31mFileNotFoundError\u001b[0m                         Traceback (most recent call last)",
      "\u001b[1;32m<ipython-input-8-3e629bfa8b74>\u001b[0m in \u001b[0;36m<module>\u001b[1;34m\u001b[0m\n\u001b[0;32m      1\u001b[0m \u001b[0mfilename\u001b[0m \u001b[1;33m=\u001b[0m \u001b[1;34m\"out.txt\"\u001b[0m\u001b[1;33m\u001b[0m\u001b[1;33m\u001b[0m\u001b[0m\n\u001b[1;32m----> 2\u001b[1;33m \u001b[0mf\u001b[0m \u001b[1;33m=\u001b[0m \u001b[0mopen\u001b[0m\u001b[1;33m(\u001b[0m\u001b[0mfilename\u001b[0m\u001b[1;33m,\u001b[0m \u001b[1;34m\"r\"\u001b[0m\u001b[1;33m)\u001b[0m\u001b[1;33m\u001b[0m\u001b[1;33m\u001b[0m\u001b[0m\n\u001b[0m\u001b[0;32m      3\u001b[0m \u001b[0mtext\u001b[0m \u001b[1;33m=\u001b[0m \u001b[0mf\u001b[0m\u001b[1;33m.\u001b[0m\u001b[0mread\u001b[0m\u001b[1;33m(\u001b[0m\u001b[1;33m)\u001b[0m\u001b[1;33m\u001b[0m\u001b[1;33m\u001b[0m\u001b[0m\n\u001b[0;32m      4\u001b[0m \u001b[0mf\u001b[0m\u001b[1;33m.\u001b[0m\u001b[0mclose\u001b[0m\u001b[1;33m\u001b[0m\u001b[1;33m\u001b[0m\u001b[0m\n\u001b[0;32m      5\u001b[0m \u001b[1;33m\u001b[0m\u001b[0m\n",
      "\u001b[1;31mFileNotFoundError\u001b[0m: [Errno 2] No such file or directory: 'out.txt'"
     ]
    }
   ],
   "source": [
    "filename = \"out.txt\"\n",
    "f = open(filename, \"r\")\n",
    "text = f.read()\n",
    "f.close\n",
    "\n",
    "print(MakeClassEasy(text,50,100))"
   ]
  },
  {
   "cell_type": "code",
   "execution_count": null,
   "metadata": {},
   "outputs": [],
   "source": []
  }
 ],
 "metadata": {
  "kernelspec": {
   "display_name": "Python 3",
   "language": "python",
   "name": "python3"
  },
  "language_info": {
   "codemirror_mode": {
    "name": "ipython",
    "version": 3
   },
   "file_extension": ".py",
   "mimetype": "text/x-python",
   "name": "python",
   "nbconvert_exporter": "python",
   "pygments_lexer": "ipython3",
   "version": "3.7.6"
  }
 },
 "nbformat": 4,
 "nbformat_minor": 4
}
