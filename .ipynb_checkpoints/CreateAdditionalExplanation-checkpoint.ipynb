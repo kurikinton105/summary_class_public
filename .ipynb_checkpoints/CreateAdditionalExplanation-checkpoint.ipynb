{
 "cells": [
  {
   "cell_type": "code",
   "execution_count": 2,
   "metadata": {},
   "outputs": [],
   "source": [
    "debug = True"
   ]
  },
  {
   "cell_type": "code",
   "execution_count": 3,
   "metadata": {},
   "outputs": [],
   "source": [
    "import termextract.janome\n",
    "import termextract.core\n",
    "import collections\n",
    "from janome.tokenizer import Tokenizer\n",
    "from pprint import pprint # このサンプルでの処理結果の整形表示のため\n",
    "\n",
    "#上位c個の重要複合語のリストを返します.c=-1(デフォルト)ですべての複合語を返します.\n",
    "def Extract_ImportantWords(filename,c=-1):\n",
    "    f = open(filename, \"r\")\n",
    "    text = f.read()\n",
    "    f.close\n",
    "    if(debug):print(text)\n",
    "\n",
    "\n",
    "    t = Tokenizer()\n",
    "    tokenize_text = t.tokenize(text)\n",
    "    \n",
    "    #頻度ベクトル生成\n",
    "    frequency = termextract.janome.cmp_noun_dict(tokenize_text) #複合語抽出\n",
    "\n",
    "    \n",
    "    #LR(ボトムアップ構文解析)のスコアの生成\n",
    "    lr = termextract.core.score_lr(\n",
    "        frequency,\n",
    "        ignore_words=termextract.mecab.IGNORE_WORDS,\n",
    "        lr_mode=1, average_rate=1)\n",
    "    #頻度lRスコアの生成(すなわち重要度)\n",
    "    term_imp = termextract.core.term_importance(frequency, lr)\n",
    "\n",
    "    #降順に表示\n",
    "    imp_words = []\n",
    "    data_collection = collections.Counter(term_imp)\n",
    "    if(c == -1):\n",
    "        for cmp_noun, value in data_collection.most_common() :\n",
    "            imp_words.append(termextract.core.modify_agglutinative_lang(cmp_noun))\n",
    "    else:\n",
    "        tmp = 1\n",
    "        for cmp_noun, value in data_collection.most_common():\n",
    "            if(tmp > c): break\n",
    "            imp_words.append(termextract.core.modify_agglutinative_lang(cmp_noun))\n",
    "            tmp += 1\n",
    "    if(debug):print(imp_words)\n",
    "    return imp_words"
   ]
  },
  {
   "cell_type": "code",
   "execution_count": 4,
   "metadata": {},
   "outputs": [],
   "source": [
    "import requests\n",
    "from bs4 import BeautifulSoup\n",
    "\n",
    "# User-Agent\n",
    "\n",
    "user_agent = \"Mozilla/5.0 (Windows NT 10.0; Win64; x64) \\\n",
    "            AppleWebKit/537.36 (KHTML, like Gecko) \\\n",
    "            Chrome/83.0.4103.116 Safari/537.36 Edg/83.0.478.64\"\n",
    "\n",
    "def get_html(url, params=None, headers=None):\n",
    "    \"\"\" get_html\n",
    "    url: データを取得するサイトのURL\n",
    "    [params]: 検索サイトのパラメーター {x: param}\n",
    "    [headers]: カスタムヘッダー情報\n",
    "    \"\"\"\n",
    "    try:\n",
    "        # データ取得\n",
    "        resp = requests.get(url, params=params, headers=headers)\n",
    "        resp.encoding = 'utf-8'\n",
    "        # 要素の抽出\n",
    "        soup = BeautifulSoup(resp.text, \"html.parser\")\n",
    "        return soup\n",
    "    except Exception as e:\n",
    "        return None\n",
    "\n",
    "def get_search_url(word):\n",
    "    \"\"\" get_search_url\n",
    "    word: 検索するワード\n",
    "    \"\"\"\n",
    "    try:\n",
    "        # google 検索\n",
    "        search_url = \"https://www.google.co.jp/search\"\n",
    "        search_params = {\"q\": word}\n",
    "        search_headers = {\"User-Agent\": user_agent}\n",
    "        # データ取得\n",
    "        soup = get_html(search_url, search_params, search_headers)\n",
    "        if soup != None:\n",
    "            #class = r <a href>\n",
    "            tags = soup.select(\".r > a\")\n",
    "            urls = [tag.get(\"href\") for tag in tags]\n",
    "            return urls\n",
    "        else:\n",
    "                return None\n",
    "    except Exception as e:\n",
    "        return None"
   ]
  },
  {
   "cell_type": "code",
   "execution_count": 5,
   "metadata": {},
   "outputs": [],
   "source": [
    "def extract_textFhtml(soup):\n",
    "    for script in soup([\"script\", \"style\"]):\n",
    "        script.decompose()\n",
    "    text=soup.get_text()\n",
    "    lines=[]\n",
    "    for line in text.splitlines():\n",
    "        lines.append(line.strip())\n",
    "    text=\"\".join(line for line in lines if line)\n",
    "    return text"
   ]
  },
  {
   "cell_type": "code",
   "execution_count": 6,
   "metadata": {},
   "outputs": [],
   "source": [
    "def CreateAdditionalExplanation(filename):\n",
    "    additionals = []\n",
    "    importances = Extract_ImportantWords(filename)\n",
    "    for word in importances:\n",
    "        try:\n",
    "            urls = get_search_url(word)\n",
    "            if(urls[0] != None):\n",
    "                soup = get_html(urls[0])\n",
    "                text = extract_textFhtml(soup)\n",
    "                additionals.append([word,text])\n",
    "        except Exception as e:\n",
    "            if(debug):print(\"エラー\")\n",
    "    return additionals"
   ]
  },
  {
   "cell_type": "code",
   "execution_count": 7,
   "metadata": {},
   "outputs": [
    {
     "ename": "FileNotFoundError",
     "evalue": "[Errno 2] No such file or directory: 'out.txt'",
     "output_type": "error",
     "traceback": [
      "\u001b[0;31m---------------------------------------------------------------------------\u001b[0m",
      "\u001b[0;31mFileNotFoundError\u001b[0m                         Traceback (most recent call last)",
      "\u001b[0;32m<ipython-input-7-da0b7f48a970>\u001b[0m in \u001b[0;36m<module>\u001b[0;34m\u001b[0m\n\u001b[0;32m----> 1\u001b[0;31m \u001b[0mprint\u001b[0m\u001b[0;34m(\u001b[0m\u001b[0mCreateAdditionalExplanation\u001b[0m\u001b[0;34m(\u001b[0m\u001b[0;34m\"out.txt\"\u001b[0m\u001b[0;34m)\u001b[0m\u001b[0;34m)\u001b[0m\u001b[0;34m\u001b[0m\u001b[0;34m\u001b[0m\u001b[0m\n\u001b[0m",
      "\u001b[0;32m<ipython-input-6-61625ff51610>\u001b[0m in \u001b[0;36mCreateAdditionalExplanation\u001b[0;34m(filename)\u001b[0m\n\u001b[1;32m      1\u001b[0m \u001b[0;32mdef\u001b[0m \u001b[0mCreateAdditionalExplanation\u001b[0m\u001b[0;34m(\u001b[0m\u001b[0mfilename\u001b[0m\u001b[0;34m)\u001b[0m\u001b[0;34m:\u001b[0m\u001b[0;34m\u001b[0m\u001b[0;34m\u001b[0m\u001b[0m\n\u001b[1;32m      2\u001b[0m     \u001b[0madditionals\u001b[0m \u001b[0;34m=\u001b[0m \u001b[0;34m[\u001b[0m\u001b[0;34m]\u001b[0m\u001b[0;34m\u001b[0m\u001b[0;34m\u001b[0m\u001b[0m\n\u001b[0;32m----> 3\u001b[0;31m     \u001b[0mimportances\u001b[0m \u001b[0;34m=\u001b[0m \u001b[0mExtract_ImportantWords\u001b[0m\u001b[0;34m(\u001b[0m\u001b[0mfilename\u001b[0m\u001b[0;34m)\u001b[0m\u001b[0;34m\u001b[0m\u001b[0;34m\u001b[0m\u001b[0m\n\u001b[0m\u001b[1;32m      4\u001b[0m     \u001b[0;32mfor\u001b[0m \u001b[0mword\u001b[0m \u001b[0;32min\u001b[0m \u001b[0mimportances\u001b[0m\u001b[0;34m:\u001b[0m\u001b[0;34m\u001b[0m\u001b[0;34m\u001b[0m\u001b[0m\n\u001b[1;32m      5\u001b[0m         \u001b[0;32mtry\u001b[0m\u001b[0;34m:\u001b[0m\u001b[0;34m\u001b[0m\u001b[0;34m\u001b[0m\u001b[0m\n",
      "\u001b[0;32m<ipython-input-3-439de78580fd>\u001b[0m in \u001b[0;36mExtract_ImportantWords\u001b[0;34m(filename, c)\u001b[0m\n\u001b[1;32m      7\u001b[0m \u001b[0;31m#上位c個の重要複合語のリストを返します.c=-1(デフォルト)ですべての複合語を返します.\u001b[0m\u001b[0;34m\u001b[0m\u001b[0;34m\u001b[0m\u001b[0;34m\u001b[0m\u001b[0m\n\u001b[1;32m      8\u001b[0m \u001b[0;32mdef\u001b[0m \u001b[0mExtract_ImportantWords\u001b[0m\u001b[0;34m(\u001b[0m\u001b[0mfilename\u001b[0m\u001b[0;34m,\u001b[0m\u001b[0mc\u001b[0m\u001b[0;34m=\u001b[0m\u001b[0;34m-\u001b[0m\u001b[0;36m1\u001b[0m\u001b[0;34m)\u001b[0m\u001b[0;34m:\u001b[0m\u001b[0;34m\u001b[0m\u001b[0;34m\u001b[0m\u001b[0m\n\u001b[0;32m----> 9\u001b[0;31m     \u001b[0mf\u001b[0m \u001b[0;34m=\u001b[0m \u001b[0mopen\u001b[0m\u001b[0;34m(\u001b[0m\u001b[0mfilename\u001b[0m\u001b[0;34m,\u001b[0m \u001b[0;34m\"r\"\u001b[0m\u001b[0;34m)\u001b[0m\u001b[0;34m\u001b[0m\u001b[0;34m\u001b[0m\u001b[0m\n\u001b[0m\u001b[1;32m     10\u001b[0m     \u001b[0mtext\u001b[0m \u001b[0;34m=\u001b[0m \u001b[0mf\u001b[0m\u001b[0;34m.\u001b[0m\u001b[0mread\u001b[0m\u001b[0;34m(\u001b[0m\u001b[0;34m)\u001b[0m\u001b[0;34m\u001b[0m\u001b[0;34m\u001b[0m\u001b[0m\n\u001b[1;32m     11\u001b[0m     \u001b[0mf\u001b[0m\u001b[0;34m.\u001b[0m\u001b[0mclose\u001b[0m\u001b[0;34m\u001b[0m\u001b[0;34m\u001b[0m\u001b[0m\n",
      "\u001b[0;31mFileNotFoundError\u001b[0m: [Errno 2] No such file or directory: 'out.txt'"
     ]
    }
   ],
   "source": [
    "print(CreateAdditionalExplanation(\"out.txt\"))"
   ]
  },
  {
   "cell_type": "code",
   "execution_count": null,
   "metadata": {},
   "outputs": [],
   "source": []
  }
 ],
 "metadata": {
  "kernelspec": {
   "display_name": "Python 3.7.7 64-bit",
   "language": "python",
   "name": "python37764bitdd8853cab8eb4714b2de24e85ccdf455"
  },
  "language_info": {
   "codemirror_mode": {
    "name": "ipython",
    "version": 3
   },
   "file_extension": ".py",
   "mimetype": "text/x-python",
   "name": "python",
   "nbconvert_exporter": "python",
   "pygments_lexer": "ipython3",
   "version": "3.7.7"
  }
 },
 "nbformat": 4,
 "nbformat_minor": 4
}
